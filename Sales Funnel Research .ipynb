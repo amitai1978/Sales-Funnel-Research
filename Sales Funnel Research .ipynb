{
 "cells": [
  {
   "cell_type": "markdown",
   "id": "9fc22eb5",
   "metadata": {},
   "source": [
    "# Project description\n",
    "\n",
    "This report comes to investigate user behavior in the company's app that sells food products.\n",
    "\n",
    "First we will check the sales funnel, in order to find important information on the users behavior in the app.\n",
    "\n",
    "Then we will examine the results of an A/A/B test that checks the impact of changing the fonts for the entire app on the user behavior, in order to determine which set of fonts produces better results."
   ]
  },
  {
   "cell_type": "markdown",
   "id": "120fc6ca",
   "metadata": {},
   "source": [
    "# Description of the data\n",
    "\n",
    "•\tEventName — event name\n",
    "\n",
    "•\tDeviceIDHash — unique user identifier\n",
    "\n",
    "•\tEventTimestamp — event time\n",
    "\n",
    "•\tExpId — experiment number: 246 and 247 are the control groups, 248 is the test group.\n"
   ]
  },
  {
   "cell_type": "code",
   "execution_count": 1,
   "id": "ffbf7226",
   "metadata": {},
   "outputs": [],
   "source": [
    "import pandas as pd\n",
    "import matplotlib.pyplot as plt \n",
    "import plotly.express as px\n",
    "from plotly import graph_objects as go\n",
    "import numpy as np\n",
    "from IPython.core.interactiveshell import InteractiveShell\n",
    "InteractiveShell.ast_node_interactivity = 'all'\n",
    "import datetime as dt\n",
    "from statsmodels.stats.weightstats import ztest as ztest"
   ]
  },
  {
   "cell_type": "code",
   "execution_count": 2,
   "id": "2dd207bd",
   "metadata": {},
   "outputs": [],
   "source": [
    "try:\n",
    "    logs = pd.read_csv('C:/Users/ASUS/OneDrive/Desktop/projcts files/logs_exp_us.csv' ,sep=\"\\s+\")\n",
    "except:\n",
    "    logs = pd.read_csv('/datasets/logs_exp_us.csv',sep=\"\\s+\") "
   ]
  },
  {
   "cell_type": "markdown",
   "id": "65d53b6b",
   "metadata": {},
   "source": [
    "# Prepare the data for analysis \n",
    "\n",
    "1.changing the columns name to make the data more clear\n",
    "\n",
    "2.checking for missing data - there is no missing data\n",
    "\n",
    "3.checking for duplicated users in A/A/B test groups- there is no duplicated users in the tests groups.\n",
    "\n",
    "4.checking for duplicate rows- there are 413 duplicated rows after examning them we see they spread all a cross the different events and the A/A/B test groups and time stamps , what means they are probably out of mistake in the regstriy on the server, so i decided to take them off."
   ]
  },
  {
   "cell_type": "code",
   "execution_count": 3,
   "id": "7a94a661",
   "metadata": {},
   "outputs": [],
   "source": [
    "logs.columns=['event name','user id','time stamp','exp id']"
   ]
  },
  {
   "cell_type": "code",
   "execution_count": 4,
   "id": "8067804c",
   "metadata": {},
   "outputs": [],
   "source": [
    "logs['time']=pd.to_datetime(logs['time stamp'],unit='s')\n",
    "logs['date']=logs['time'].dt.date"
   ]
  },
  {
   "cell_type": "code",
   "execution_count": 5,
   "id": "7ae6aede",
   "metadata": {},
   "outputs": [
    {
     "name": "stdout",
     "output_type": "stream",
     "text": [
      "<class 'pandas.core.frame.DataFrame'>\n",
      "RangeIndex: 244126 entries, 0 to 244125\n",
      "Data columns (total 6 columns):\n",
      " #   Column      Non-Null Count   Dtype         \n",
      "---  ------      --------------   -----         \n",
      " 0   event name  244126 non-null  object        \n",
      " 1   user id     244126 non-null  int64         \n",
      " 2   time stamp  244126 non-null  int64         \n",
      " 3   exp id      244126 non-null  int64         \n",
      " 4   time        244126 non-null  datetime64[ns]\n",
      " 5   date        244126 non-null  object        \n",
      "dtypes: datetime64[ns](1), int64(3), object(2)\n",
      "memory usage: 11.2+ MB\n"
     ]
    }
   ],
   "source": [
    "logs.info()"
   ]
  },
  {
   "cell_type": "code",
   "execution_count": 6,
   "id": "bea836d8",
   "metadata": {},
   "outputs": [
    {
     "data": {
      "text/html": [
       "<div>\n",
       "<style scoped>\n",
       "    .dataframe tbody tr th:only-of-type {\n",
       "        vertical-align: middle;\n",
       "    }\n",
       "\n",
       "    .dataframe tbody tr th {\n",
       "        vertical-align: top;\n",
       "    }\n",
       "\n",
       "    .dataframe thead th {\n",
       "        text-align: right;\n",
       "    }\n",
       "</style>\n",
       "<table border=\"1\" class=\"dataframe\">\n",
       "  <thead>\n",
       "    <tr style=\"text-align: right;\">\n",
       "      <th></th>\n",
       "      <th>event name</th>\n",
       "      <th>user id</th>\n",
       "      <th>time stamp</th>\n",
       "      <th>exp id</th>\n",
       "      <th>time</th>\n",
       "      <th>date</th>\n",
       "    </tr>\n",
       "  </thead>\n",
       "  <tbody>\n",
       "    <tr>\n",
       "      <th>0</th>\n",
       "      <td>MainScreenAppear</td>\n",
       "      <td>4575588528974610257</td>\n",
       "      <td>1564029816</td>\n",
       "      <td>246</td>\n",
       "      <td>2019-07-25 04:43:36</td>\n",
       "      <td>2019-07-25</td>\n",
       "    </tr>\n",
       "    <tr>\n",
       "      <th>1</th>\n",
       "      <td>MainScreenAppear</td>\n",
       "      <td>7416695313311560658</td>\n",
       "      <td>1564053102</td>\n",
       "      <td>246</td>\n",
       "      <td>2019-07-25 11:11:42</td>\n",
       "      <td>2019-07-25</td>\n",
       "    </tr>\n",
       "    <tr>\n",
       "      <th>2</th>\n",
       "      <td>PaymentScreenSuccessful</td>\n",
       "      <td>3518123091307005509</td>\n",
       "      <td>1564054127</td>\n",
       "      <td>248</td>\n",
       "      <td>2019-07-25 11:28:47</td>\n",
       "      <td>2019-07-25</td>\n",
       "    </tr>\n",
       "    <tr>\n",
       "      <th>3</th>\n",
       "      <td>CartScreenAppear</td>\n",
       "      <td>3518123091307005509</td>\n",
       "      <td>1564054127</td>\n",
       "      <td>248</td>\n",
       "      <td>2019-07-25 11:28:47</td>\n",
       "      <td>2019-07-25</td>\n",
       "    </tr>\n",
       "    <tr>\n",
       "      <th>4</th>\n",
       "      <td>PaymentScreenSuccessful</td>\n",
       "      <td>6217807653094995999</td>\n",
       "      <td>1564055322</td>\n",
       "      <td>248</td>\n",
       "      <td>2019-07-25 11:48:42</td>\n",
       "      <td>2019-07-25</td>\n",
       "    </tr>\n",
       "  </tbody>\n",
       "</table>\n",
       "</div>"
      ],
      "text/plain": [
       "                event name              user id  time stamp  exp id  \\\n",
       "0         MainScreenAppear  4575588528974610257  1564029816     246   \n",
       "1         MainScreenAppear  7416695313311560658  1564053102     246   \n",
       "2  PaymentScreenSuccessful  3518123091307005509  1564054127     248   \n",
       "3         CartScreenAppear  3518123091307005509  1564054127     248   \n",
       "4  PaymentScreenSuccessful  6217807653094995999  1564055322     248   \n",
       "\n",
       "                 time        date  \n",
       "0 2019-07-25 04:43:36  2019-07-25  \n",
       "1 2019-07-25 11:11:42  2019-07-25  \n",
       "2 2019-07-25 11:28:47  2019-07-25  \n",
       "3 2019-07-25 11:28:47  2019-07-25  \n",
       "4 2019-07-25 11:48:42  2019-07-25  "
      ]
     },
     "execution_count": 6,
     "metadata": {},
     "output_type": "execute_result"
    }
   ],
   "source": [
    "logs.head()"
   ]
  },
  {
   "cell_type": "code",
   "execution_count": 7,
   "id": "ec38e8e5",
   "metadata": {},
   "outputs": [
    {
     "data": {
      "text/plain": [
       "event name    0\n",
       "user id       0\n",
       "time stamp    0\n",
       "exp id        0\n",
       "time          0\n",
       "date          0\n",
       "dtype: int64"
      ]
     },
     "execution_count": 7,
     "metadata": {},
     "output_type": "execute_result"
    }
   ],
   "source": [
    "logs.isnull().sum()"
   ]
  },
  {
   "cell_type": "code",
   "execution_count": 8,
   "id": "49bb726f",
   "metadata": {},
   "outputs": [
    {
     "data": {
      "text/html": [
       "<div>\n",
       "<style scoped>\n",
       "    .dataframe tbody tr th:only-of-type {\n",
       "        vertical-align: middle;\n",
       "    }\n",
       "\n",
       "    .dataframe tbody tr th {\n",
       "        vertical-align: top;\n",
       "    }\n",
       "\n",
       "    .dataframe thead th {\n",
       "        text-align: right;\n",
       "    }\n",
       "</style>\n",
       "<table border=\"1\" class=\"dataframe\">\n",
       "  <thead>\n",
       "    <tr style=\"text-align: right;\">\n",
       "      <th></th>\n",
       "      <th>user id</th>\n",
       "      <th>exp id</th>\n",
       "    </tr>\n",
       "  </thead>\n",
       "  <tbody>\n",
       "  </tbody>\n",
       "</table>\n",
       "</div>"
      ],
      "text/plain": [
       "Empty DataFrame\n",
       "Columns: [user id, exp id]\n",
       "Index: []"
      ]
     },
     "execution_count": 8,
     "metadata": {},
     "output_type": "execute_result"
    }
   ],
   "source": [
    "check_id=logs.groupby(['user id'])['exp id'].nunique().reset_index()\n",
    "check_id[check_id['exp id']>1]"
   ]
  },
  {
   "cell_type": "code",
   "execution_count": 9,
   "id": "90091538",
   "metadata": {},
   "outputs": [
    {
     "data": {
      "text/plain": [
       "413"
      ]
     },
     "execution_count": 9,
     "metadata": {},
     "output_type": "execute_result"
    }
   ],
   "source": [
    "logs.duplicated().sum()"
   ]
  },
  {
   "cell_type": "code",
   "execution_count": 10,
   "id": "875e065f",
   "metadata": {},
   "outputs": [
    {
     "name": "stdout",
     "output_type": "stream",
     "text": [
      "event name : 5\n",
      "user id : 237\n",
      "time stamp : 352\n",
      "exp id : 3\n",
      "time : 352\n",
      "date : 9\n"
     ]
    }
   ],
   "source": [
    "for i in logs[logs.duplicated()].columns:\n",
    "    print(i,':', logs[logs.duplicated()][i].nunique())"
   ]
  },
  {
   "cell_type": "code",
   "execution_count": 11,
   "id": "fd3b8eb5",
   "metadata": {},
   "outputs": [
    {
     "data": {
      "text/plain": [
       "array([datetime.date(2019, 7, 30), datetime.date(2019, 7, 31),\n",
       "       datetime.date(2019, 8, 1), datetime.date(2019, 8, 2),\n",
       "       datetime.date(2019, 8, 3), datetime.date(2019, 8, 4),\n",
       "       datetime.date(2019, 8, 5), datetime.date(2019, 8, 6),\n",
       "       datetime.date(2019, 8, 7)], dtype=object)"
      ]
     },
     "execution_count": 11,
     "metadata": {},
     "output_type": "execute_result"
    }
   ],
   "source": [
    "logs[logs.duplicated()]['time'].dt.date.unique()"
   ]
  },
  {
   "cell_type": "code",
   "execution_count": 12,
   "id": "8fe880fb",
   "metadata": {},
   "outputs": [],
   "source": [
    "logs=logs.drop_duplicates()"
   ]
  },
  {
   "cell_type": "markdown",
   "id": "f76959d2",
   "metadata": {},
   "source": [
    "# Checking the data "
   ]
  },
  {
   "cell_type": "markdown",
   "id": "7a8c38bf",
   "metadata": {},
   "source": [
    "#### Number of events  in the logs "
   ]
  },
  {
   "cell_type": "code",
   "execution_count": 13,
   "id": "25f3b5cd",
   "metadata": {},
   "outputs": [
    {
     "name": "stdout",
     "output_type": "stream",
     "text": [
      "there are 243713 events in the logs\n"
     ]
    }
   ],
   "source": [
    "print('there are',logs['event name'].count(), 'events in the logs')"
   ]
  },
  {
   "cell_type": "markdown",
   "id": "4b806ee4",
   "metadata": {},
   "source": [
    "#### Number of users in the logs"
   ]
  },
  {
   "cell_type": "code",
   "execution_count": 14,
   "id": "5cec9192",
   "metadata": {},
   "outputs": [
    {
     "name": "stdout",
     "output_type": "stream",
     "text": [
      "there are 7551 users in the logs\n"
     ]
    }
   ],
   "source": [
    "print('there are',logs['user id'].nunique(), 'users in the logs')"
   ]
  },
  {
   "cell_type": "markdown",
   "id": "489c3285",
   "metadata": {},
   "source": [
    "####  The average number of events per user"
   ]
  },
  {
   "cell_type": "code",
   "execution_count": 15,
   "id": "2584b2a8",
   "metadata": {
    "scrolled": true
   },
   "outputs": [
    {
     "name": "stdout",
     "output_type": "stream",
     "text": [
      "the average number of events per user is  2\n"
     ]
    }
   ],
   "source": [
    "m_event=logs.groupby('user id').agg({'event name': 'nunique'}).mean()\n",
    "print('the average number of events per user is ',int(m_event))"
   ]
  },
  {
   "cell_type": "markdown",
   "id": "cfa9bd1c",
   "metadata": {},
   "source": [
    "#### Period of time the data cover "
   ]
  },
  {
   "cell_type": "code",
   "execution_count": 16,
   "id": "1c24a85e",
   "metadata": {},
   "outputs": [
    {
     "data": {
      "text/plain": [
       "Timestamp('2019-08-07 21:15:17')"
      ]
     },
     "execution_count": 16,
     "metadata": {},
     "output_type": "execute_result"
    },
    {
     "data": {
      "text/plain": [
       "Timestamp('2019-07-25 04:43:36')"
      ]
     },
     "execution_count": 16,
     "metadata": {},
     "output_type": "execute_result"
    }
   ],
   "source": [
    "logs['time'].max()\n",
    "logs['time'].min()"
   ]
  },
  {
   "cell_type": "code",
   "execution_count": 17,
   "id": "43d20c3e",
   "metadata": {},
   "outputs": [
    {
     "data": {
      "image/png": "[encoded data removed]"
     },
     "metadata": {},
     "output_type": "display_data"
    }
   ],
   "source": [
    "fig = px.histogram(logs, x=\"time\")\n",
    "fig.update_layout(title='Distrbution of events time',\n",
    "                   xaxis_title='date',\n",
    "                   yaxis_title='number of events')\n",
    "fig.update_xaxes(tickangle=45)\n",
    "fig.show(\"png\");"
   ]
  },
  {
   "cell_type": "markdown",
   "id": "59ddcca9",
   "metadata": {},
   "source": [
    "#### Slicing the data by the relevant event time \n",
    "\n",
    "we can see from the histogram the data actually represent events from 31/7/2019 and further.\n",
    "\n",
    "out of that i decided to slice the data from this date to make the data more acurrate.\n",
    "\n",
    "after the slice of the data we can see that the data size changed a bit.\n",
    "\n",
    "the number of lost events after slicing the data is:  796  that is  0.327 % loss.\n",
    "\n",
    "the number of lost users after slicing the data is:  9  that is  0.119 % loss."
   ]
  },
  {
   "cell_type": "code",
   "execution_count": 18,
   "id": "3bdc9053",
   "metadata": {},
   "outputs": [],
   "source": [
    "mask = (logs['time'] > '2019-07-31') \n",
    "logs_new = logs.loc[mask]"
   ]
  },
  {
   "cell_type": "code",
   "execution_count": 19,
   "id": "0d72bdf3",
   "metadata": {},
   "outputs": [
    {
     "name": "stdout",
     "output_type": "stream",
     "text": [
      "<class 'pandas.core.frame.DataFrame'>\n",
      "Int64Index: 242917 entries, 797 to 244125\n",
      "Data columns (total 6 columns):\n",
      " #   Column      Non-Null Count   Dtype         \n",
      "---  ------      --------------   -----         \n",
      " 0   event name  242917 non-null  object        \n",
      " 1   user id     242917 non-null  int64         \n",
      " 2   time stamp  242917 non-null  int64         \n",
      " 3   exp id      242917 non-null  int64         \n",
      " 4   time        242917 non-null  datetime64[ns]\n",
      " 5   date        242917 non-null  object        \n",
      "dtypes: datetime64[ns](1), int64(3), object(2)\n",
      "memory usage: 13.0+ MB\n"
     ]
    }
   ],
   "source": [
    "logs_new.info()"
   ]
  },
  {
   "cell_type": "markdown",
   "id": "5b7b2dc6",
   "metadata": {},
   "source": [
    "#### New period of time the data cover "
   ]
  },
  {
   "cell_type": "code",
   "execution_count": 20,
   "id": "904e99c2",
   "metadata": {},
   "outputs": [
    {
     "data": {
      "text/plain": [
       "Timestamp('2019-08-07 21:15:17')"
      ]
     },
     "execution_count": 20,
     "metadata": {},
     "output_type": "execute_result"
    },
    {
     "data": {
      "text/plain": [
       "Timestamp('2019-07-31 01:11:46')"
      ]
     },
     "execution_count": 20,
     "metadata": {},
     "output_type": "execute_result"
    }
   ],
   "source": [
    "logs_new['time'].max()\n",
    "logs_new['time'].min()"
   ]
  },
  {
   "cell_type": "markdown",
   "id": "6af50ac4",
   "metadata": {},
   "source": [
    "#### Checking there are users from all three experimental groups. "
   ]
  },
  {
   "cell_type": "code",
   "execution_count": 21,
   "id": "5bdd7e02",
   "metadata": {},
   "outputs": [
    {
     "data": {
      "text/html": [
       "<div>\n",
       "<style scoped>\n",
       "    .dataframe tbody tr th:only-of-type {\n",
       "        vertical-align: middle;\n",
       "    }\n",
       "\n",
       "    .dataframe tbody tr th {\n",
       "        vertical-align: top;\n",
       "    }\n",
       "\n",
       "    .dataframe thead th {\n",
       "        text-align: right;\n",
       "    }\n",
       "</style>\n",
       "<table border=\"1\" class=\"dataframe\">\n",
       "  <thead>\n",
       "    <tr style=\"text-align: right;\">\n",
       "      <th></th>\n",
       "      <th>experment id</th>\n",
       "      <th>number of users</th>\n",
       "    </tr>\n",
       "  </thead>\n",
       "  <tbody>\n",
       "    <tr>\n",
       "      <th>2</th>\n",
       "      <td>248</td>\n",
       "      <td>2540</td>\n",
       "    </tr>\n",
       "    <tr>\n",
       "      <th>1</th>\n",
       "      <td>247</td>\n",
       "      <td>2517</td>\n",
       "    </tr>\n",
       "    <tr>\n",
       "      <th>0</th>\n",
       "      <td>246</td>\n",
       "      <td>2485</td>\n",
       "    </tr>\n",
       "  </tbody>\n",
       "</table>\n",
       "</div>"
      ],
      "text/plain": [
       "   experment id  number of users\n",
       "2           248             2540\n",
       "1           247             2517\n",
       "0           246             2485"
      ]
     },
     "execution_count": 21,
     "metadata": {},
     "output_type": "execute_result"
    },
    {
     "name": "stdout",
     "output_type": "stream",
     "text": [
      "\n",
      " number of lost events after slicing the data is:  796  that is  0.327 % loss\n",
      "\n",
      " number of lost users after slicing the data is:  9  that is  0.119 % loss\n"
     ]
    }
   ],
   "source": [
    "users_loss=logs['user id'].nunique()- logs_new['user id'].nunique()\n",
    "event_loss=logs['exp id'].count() - logs_new['exp id'].count()\n",
    "per_users=round(users_loss/ logs['user id'].nunique() *100,3)\n",
    "per_event= round(event_loss/ logs['exp id'].count() * 100,3)\n",
    "user_check=logs_new.groupby(['exp id']).agg({'user id': 'nunique'}).reset_index().sort_values(by='user id', ascending=False)\n",
    "user_check.columns=['experment id','number of users']\n",
    "user_check\n",
    "print()\n",
    "print(' number of lost events after slicing the data is: ',event_loss, ' that is ',per_event,'% loss')\n",
    "print()\n",
    "print(' number of lost users after slicing the data is: ',users_loss, ' that is ',per_users, '% loss' )"
   ]
  },
  {
   "cell_type": "markdown",
   "id": "780ed91d",
   "metadata": {},
   "source": [
    "# Study the event funnel"
   ]
  },
  {
   "cell_type": "markdown",
   "id": "02c1958f",
   "metadata": {},
   "source": [
    "#### what events are in the logs and their frequency of occurrence"
   ]
  },
  {
   "cell_type": "code",
   "execution_count": 22,
   "id": "aaab7f32",
   "metadata": {},
   "outputs": [
    {
     "data": {
      "text/plain": [
       "MainScreenAppear           118578\n",
       "OffersScreenAppear          46707\n",
       "CartScreenAppear            42560\n",
       "PaymentScreenSuccessful     34058\n",
       "Tutorial                     1014\n",
       "Name: event name, dtype: int64"
      ]
     },
     "execution_count": 22,
     "metadata": {},
     "output_type": "execute_result"
    }
   ],
   "source": [
    "logs_new['event name'].value_counts()"
   ]
  },
  {
   "cell_type": "markdown",
   "id": "5bfcb1c9",
   "metadata": {},
   "source": [
    "#### The number of users who performed each of these actions\n",
    "\n",
    "From the table we can see the amount of users who preform each action out of all users. \n",
    "\n",
    "The sequence seems like a single sequence in this order \"Main Screen Appear\"--- \"Offers Screen Appear\"--- \"Cart Screen Appear\"\n",
    "--- \"Payment Screen Successful\".\n",
    "\n",
    "The tutorial action seems to be out of the single sequence , because the purchase could take place with out it. \n",
    "\n",
    "Out of that i decided to take the tutorial action out of the funnel calculation.\n"
   ]
  },
  {
   "cell_type": "code",
   "execution_count": 23,
   "id": "144f8fb4",
   "metadata": {},
   "outputs": [
    {
     "data": {
      "text/html": [
       "<div>\n",
       "<style scoped>\n",
       "    .dataframe tbody tr th:only-of-type {\n",
       "        vertical-align: middle;\n",
       "    }\n",
       "\n",
       "    .dataframe tbody tr th {\n",
       "        vertical-align: top;\n",
       "    }\n",
       "\n",
       "    .dataframe thead th {\n",
       "        text-align: right;\n",
       "    }\n",
       "</style>\n",
       "<table border=\"1\" class=\"dataframe\">\n",
       "  <thead>\n",
       "    <tr style=\"text-align: right;\">\n",
       "      <th></th>\n",
       "      <th>event name</th>\n",
       "      <th>number of users</th>\n",
       "      <th>% from all users</th>\n",
       "    </tr>\n",
       "  </thead>\n",
       "  <tbody>\n",
       "    <tr>\n",
       "      <th>1</th>\n",
       "      <td>MainScreenAppear</td>\n",
       "      <td>7429</td>\n",
       "      <td>98.50</td>\n",
       "    </tr>\n",
       "    <tr>\n",
       "      <th>2</th>\n",
       "      <td>OffersScreenAppear</td>\n",
       "      <td>4606</td>\n",
       "      <td>61.07</td>\n",
       "    </tr>\n",
       "    <tr>\n",
       "      <th>0</th>\n",
       "      <td>CartScreenAppear</td>\n",
       "      <td>3742</td>\n",
       "      <td>49.62</td>\n",
       "    </tr>\n",
       "    <tr>\n",
       "      <th>3</th>\n",
       "      <td>PaymentScreenSuccessful</td>\n",
       "      <td>3542</td>\n",
       "      <td>46.96</td>\n",
       "    </tr>\n",
       "    <tr>\n",
       "      <th>4</th>\n",
       "      <td>Tutorial</td>\n",
       "      <td>845</td>\n",
       "      <td>11.20</td>\n",
       "    </tr>\n",
       "  </tbody>\n",
       "</table>\n",
       "</div>"
      ],
      "text/plain": [
       "                event name  number of users  % from all users\n",
       "1         MainScreenAppear             7429             98.50\n",
       "2       OffersScreenAppear             4606             61.07\n",
       "0         CartScreenAppear             3742             49.62\n",
       "3  PaymentScreenSuccessful             3542             46.96\n",
       "4                 Tutorial              845             11.20"
      ]
     },
     "execution_count": 23,
     "metadata": {},
     "output_type": "execute_result"
    }
   ],
   "source": [
    "user_per=logs_new.groupby(['event name']).agg({'user id': 'nunique'}).reset_index().sort_values(by='user id', ascending=False)\n",
    "user_per.columns=['event name','number of users']\n",
    "user_per['% from all users']=round(user_per['number of users']/logs_new['user id'].nunique() *100,2)\n",
    "user_per"
   ]
  },
  {
   "cell_type": "markdown",
   "id": "303d97e0",
   "metadata": {},
   "source": [
    "#### Sequence of events\n",
    "\n",
    "We can see that 2875 users only got to \"Main Screen Appear\" event, and 868 only got to \"Main Screen Appear\" -- \"Offers Screen Appear\". \n",
    "\n",
    "When we check the users that went in all the Sequence of events we can see the most common Sequence is \"Main Screen Appear\" -- \"Offers Screen Appear\"-- \"Cart Screen Appear\" -- \"Payment Screen Successful\"."
   ]
  },
  {
   "cell_type": "code",
   "execution_count": 24,
   "id": "6a1cae75",
   "metadata": {},
   "outputs": [],
   "source": [
    "sorted_data=logs_new[logs_new['event name']!='Tutorial'].sort_values(by=['user id','time'])"
   ]
  },
  {
   "cell_type": "code",
   "execution_count": 25,
   "id": "b915987d",
   "metadata": {},
   "outputs": [],
   "source": [
    "def sequence(user):\n",
    "    sorted_user=sorted_data[sorted_data['user id']==user].sort_values(by=['user id','time'])\n",
    "    return sorted_user['event name'].drop_duplicates().to_list()"
   ]
  },
  {
   "cell_type": "code",
   "execution_count": 26,
   "id": "8ee24876",
   "metadata": {},
   "outputs": [],
   "source": [
    "sequence_empty=[]\n",
    "for i in sorted_data['user id'].unique():\n",
    "    sequence_empty.append([i,sequence(i)])"
   ]
  },
  {
   "cell_type": "code",
   "execution_count": 27,
   "id": "f70a15e3",
   "metadata": {},
   "outputs": [
    {
     "data": {
      "text/html": [
       "<div>\n",
       "<style scoped>\n",
       "    .dataframe tbody tr th:only-of-type {\n",
       "        vertical-align: middle;\n",
       "    }\n",
       "\n",
       "    .dataframe tbody tr th {\n",
       "        vertical-align: top;\n",
       "    }\n",
       "\n",
       "    .dataframe thead th {\n",
       "        text-align: right;\n",
       "    }\n",
       "</style>\n",
       "<table border=\"1\" class=\"dataframe\">\n",
       "  <thead>\n",
       "    <tr style=\"text-align: right;\">\n",
       "      <th></th>\n",
       "      <th>path</th>\n",
       "      <th>user</th>\n",
       "    </tr>\n",
       "  </thead>\n",
       "  <tbody>\n",
       "    <tr>\n",
       "      <th>12</th>\n",
       "      <td>MainScreenAppear</td>\n",
       "      <td>2875</td>\n",
       "    </tr>\n",
       "    <tr>\n",
       "      <th>20</th>\n",
       "      <td>MainScreenAppear,OffersScreenAppear,CartScreenAppear,PaymentScreenSuccessful</td>\n",
       "      <td>870</td>\n",
       "    </tr>\n",
       "    <tr>\n",
       "      <th>18</th>\n",
       "      <td>MainScreenAppear,OffersScreenAppear</td>\n",
       "      <td>868</td>\n",
       "    </tr>\n",
       "    <tr>\n",
       "      <th>21</th>\n",
       "      <td>MainScreenAppear,OffersScreenAppear,PaymentScreenSuccessful,CartScreenAppear</td>\n",
       "      <td>714</td>\n",
       "    </tr>\n",
       "    <tr>\n",
       "      <th>23</th>\n",
       "      <td>MainScreenAppear,PaymentScreenSuccessful,CartScreenAppear,OffersScreenAppear</td>\n",
       "      <td>607</td>\n",
       "    </tr>\n",
       "  </tbody>\n",
       "</table>\n",
       "</div>"
      ],
      "text/plain": [
       "                                                                            path  \\\n",
       "12                                                              MainScreenAppear   \n",
       "20  MainScreenAppear,OffersScreenAppear,CartScreenAppear,PaymentScreenSuccessful   \n",
       "18                                           MainScreenAppear,OffersScreenAppear   \n",
       "21  MainScreenAppear,OffersScreenAppear,PaymentScreenSuccessful,CartScreenAppear   \n",
       "23  MainScreenAppear,PaymentScreenSuccessful,CartScreenAppear,OffersScreenAppear   \n",
       "\n",
       "    user  \n",
       "12  2875  \n",
       "20   870  \n",
       "18   868  \n",
       "21   714  \n",
       "23   607  "
      ]
     },
     "execution_count": 27,
     "metadata": {},
     "output_type": "execute_result"
    }
   ],
   "source": [
    "path_data=pd.DataFrame(sequence_empty,columns=['user','path'])\n",
    "path_data['path'] = [','.join(map(str, l)) for l in path_data['path']]\n",
    "seq=path_data.groupby('path').agg({'user': 'nunique'}).reset_index().sort_values(by='user', ascending=False)\n",
    "pd.options.display.max_colwidth = 210\n",
    "seq.head()"
   ]
  },
  {
   "cell_type": "markdown",
   "id": "59642d7d",
   "metadata": {},
   "source": [
    "#### The share of users that proceed from each stage to the next\n",
    "\n",
    "From the funnel diagram we can see the share of users that proceed from each stage to the next.\n",
    "\n",
    "Out of that we see that on the \"Offers Screen Appear\" we lose most of our users (38%  of the users), so it needs further investagtion to figure out what make the user leave between this stages.\n",
    "\n",
    "We can see that 47.7% of the users make the entire journey from \"Main Screen Appear\" event to payment."
   ]
  },
  {
   "cell_type": "code",
   "execution_count": 28,
   "id": "4fbc2ac4",
   "metadata": {
    "scrolled": true
   },
   "outputs": [
    {
     "data": {
      "image/png": "[encoded data removed]"
     },
     "metadata": {},
     "output_type": "display_data"
    }
   ],
   "source": [
    "fig = go.Figure(go.Funnel(\n",
    "    y = [\"Main Screen Appear\", \"Offers Screen Appear\", \"Cart Screen Appear\", \"Payment Screen Successful\"],\n",
    "    x = [7429, 4606, 3742, 3542],\n",
    "    textposition = \"inside\",\n",
    "    textinfo = \"value+percent initial\",\n",
    "    opacity = 0.65, marker = {\"color\": [\"deepskyblue\", \"lightsalmon\", \"tan\", \"teal\", \"silver\"],\n",
    "    \"line\": {\"width\": [4, 2, 2, 3, 1, 1], \"color\": [\"wheat\", \"wheat\", \"blue\", \"wheat\", \"wheat\"]}},\n",
    "    connector = {\"line\": {\"color\": \"royalblue\", \"dash\": \"dot\", \"width\": 3}}))\n",
    "fig.update_layout(\n",
    "    title=\"Event funnel \") \n",
    "fig.show(\"png\");"
   ]
  },
  {
   "cell_type": "markdown",
   "id": "d9e501b8",
   "metadata": {},
   "source": [
    "# Study the results of the A/A/B test"
   ]
  },
  {
   "cell_type": "markdown",
   "id": "f9dc3954",
   "metadata": {},
   "source": [
    "#### Checking if there is a statistically significant difference between the A/A groups.\n",
    "\n",
    "H0 (Null):my null hypothesis (H₀) is that the conversion proportions of group A 246 and group A 247 are equal.\n",
    "\n",
    "H1 (Alternative):my alternative hypothesis, (H₁), is based on H₀. For this H₀, H₁ is that the conversion proportions of group A 246 and group A 247 are different."
   ]
  },
  {
   "cell_type": "code",
   "execution_count": 29,
   "id": "7931573e",
   "metadata": {},
   "outputs": [],
   "source": [
    "group1=logs_new[(logs_new['exp id'] ==246)]\n",
    "group2=logs_new[(logs_new['exp id'] ==247)]\n",
    "group3=logs_new[(logs_new['exp id'] ==248)]\n",
    "group4=logs_new[(logs_new['exp id'] !=248)]"
   ]
  },
  {
   "cell_type": "code",
   "execution_count": 30,
   "id": "c2811e4d",
   "metadata": {},
   "outputs": [
    {
     "name": "stdout",
     "output_type": "stream",
     "text": [
      "A group number 246\n",
      "-------------------\n"
     ]
    },
    {
     "data": {
      "text/html": [
       "<div>\n",
       "<style scoped>\n",
       "    .dataframe tbody tr th:only-of-type {\n",
       "        vertical-align: middle;\n",
       "    }\n",
       "\n",
       "    .dataframe tbody tr th {\n",
       "        vertical-align: top;\n",
       "    }\n",
       "\n",
       "    .dataframe thead th {\n",
       "        text-align: right;\n",
       "    }\n",
       "</style>\n",
       "<table border=\"1\" class=\"dataframe\">\n",
       "  <thead>\n",
       "    <tr style=\"text-align: right;\">\n",
       "      <th></th>\n",
       "      <th>event name</th>\n",
       "      <th>number of users</th>\n",
       "      <th>conversion</th>\n",
       "    </tr>\n",
       "  </thead>\n",
       "  <tbody>\n",
       "    <tr>\n",
       "      <th>1</th>\n",
       "      <td>MainScreenAppear</td>\n",
       "      <td>2452</td>\n",
       "      <td>0.986720</td>\n",
       "    </tr>\n",
       "    <tr>\n",
       "      <th>2</th>\n",
       "      <td>OffersScreenAppear</td>\n",
       "      <td>1544</td>\n",
       "      <td>0.621328</td>\n",
       "    </tr>\n",
       "    <tr>\n",
       "      <th>0</th>\n",
       "      <td>CartScreenAppear</td>\n",
       "      <td>1267</td>\n",
       "      <td>0.509859</td>\n",
       "    </tr>\n",
       "    <tr>\n",
       "      <th>3</th>\n",
       "      <td>PaymentScreenSuccessful</td>\n",
       "      <td>1200</td>\n",
       "      <td>0.482897</td>\n",
       "    </tr>\n",
       "    <tr>\n",
       "      <th>4</th>\n",
       "      <td>Tutorial</td>\n",
       "      <td>278</td>\n",
       "      <td>0.111871</td>\n",
       "    </tr>\n",
       "  </tbody>\n",
       "</table>\n",
       "</div>"
      ],
      "text/plain": [
       "                event name  number of users  conversion\n",
       "1         MainScreenAppear             2452    0.986720\n",
       "2       OffersScreenAppear             1544    0.621328\n",
       "0         CartScreenAppear             1267    0.509859\n",
       "3  PaymentScreenSuccessful             1200    0.482897\n",
       "4                 Tutorial              278    0.111871"
      ]
     },
     "execution_count": 30,
     "metadata": {},
     "output_type": "execute_result"
    },
    {
     "name": "stdout",
     "output_type": "stream",
     "text": [
      "\n",
      "A group number 247\n",
      "-------------------\n"
     ]
    },
    {
     "data": {
      "text/html": [
       "<div>\n",
       "<style scoped>\n",
       "    .dataframe tbody tr th:only-of-type {\n",
       "        vertical-align: middle;\n",
       "    }\n",
       "\n",
       "    .dataframe tbody tr th {\n",
       "        vertical-align: top;\n",
       "    }\n",
       "\n",
       "    .dataframe thead th {\n",
       "        text-align: right;\n",
       "    }\n",
       "</style>\n",
       "<table border=\"1\" class=\"dataframe\">\n",
       "  <thead>\n",
       "    <tr style=\"text-align: right;\">\n",
       "      <th></th>\n",
       "      <th>event name</th>\n",
       "      <th>number of users</th>\n",
       "      <th>conversion</th>\n",
       "    </tr>\n",
       "  </thead>\n",
       "  <tbody>\n",
       "    <tr>\n",
       "      <th>1</th>\n",
       "      <td>MainScreenAppear</td>\n",
       "      <td>2479</td>\n",
       "      <td>0.984903</td>\n",
       "    </tr>\n",
       "    <tr>\n",
       "      <th>2</th>\n",
       "      <td>OffersScreenAppear</td>\n",
       "      <td>1526</td>\n",
       "      <td>0.606277</td>\n",
       "    </tr>\n",
       "    <tr>\n",
       "      <th>0</th>\n",
       "      <td>CartScreenAppear</td>\n",
       "      <td>1239</td>\n",
       "      <td>0.492253</td>\n",
       "    </tr>\n",
       "    <tr>\n",
       "      <th>3</th>\n",
       "      <td>PaymentScreenSuccessful</td>\n",
       "      <td>1159</td>\n",
       "      <td>0.460469</td>\n",
       "    </tr>\n",
       "    <tr>\n",
       "      <th>4</th>\n",
       "      <td>Tutorial</td>\n",
       "      <td>285</td>\n",
       "      <td>0.113230</td>\n",
       "    </tr>\n",
       "  </tbody>\n",
       "</table>\n",
       "</div>"
      ],
      "text/plain": [
       "                event name  number of users  conversion\n",
       "1         MainScreenAppear             2479    0.984903\n",
       "2       OffersScreenAppear             1526    0.606277\n",
       "0         CartScreenAppear             1239    0.492253\n",
       "3  PaymentScreenSuccessful             1159    0.460469\n",
       "4                 Tutorial              285    0.113230"
      ]
     },
     "execution_count": 30,
     "metadata": {},
     "output_type": "execute_result"
    }
   ],
   "source": [
    "print('A group number 246')\n",
    "print('-------------------')\n",
    "user_1=group1.groupby(['event name']).agg({'user id': 'nunique'}).reset_index().sort_values(by='user id', ascending=False)\n",
    "user_1.columns=['event name','number of users']\n",
    "user_1['conversion']=user_1['number of users']/group1['user id'].nunique()\n",
    "user_1\n",
    "print()\n",
    "print('A group number 247')\n",
    "print('-------------------')\n",
    "user_2=group2.groupby(['event name']).agg({'user id': 'nunique'}).reset_index().sort_values(by='user id', ascending=False)\n",
    "user_2.columns=['event name','number of users']\n",
    "user_2['conversion']=user_2['number of users']/group2['user id'].nunique()\n",
    "user_2"
   ]
  },
  {
   "cell_type": "code",
   "execution_count": 31,
   "id": "4d5f9f2f",
   "metadata": {},
   "outputs": [],
   "source": [
    "def testing_average(sample1,sample2,alpha):\n",
    "    \n",
    "    sample1=sample1.dropna()\n",
    "    sample2=sample2.dropna()\n",
    "    ztest_Score, p_value= ztest(sample1,sample2,value=0)\n",
    "    print('p_value : ',p_value)\n",
    "    if p_value<alpha:\n",
    "        print('Reject H₀')\n",
    "    else:\n",
    "        print('Fail to Reject H₀')"
   ]
  },
  {
   "cell_type": "code",
   "execution_count": 32,
   "id": "79efda79",
   "metadata": {},
   "outputs": [
    {
     "name": "stdout",
     "output_type": "stream",
     "text": [
      "p_value :  0.9553209797161142\n",
      "Fail to Reject H₀\n"
     ]
    }
   ],
   "source": [
    "testing_average(user_1['conversion'],user_2['conversion'],0.05)"
   ]
  },
  {
   "cell_type": "markdown",
   "id": "dde3b30e",
   "metadata": {},
   "source": [
    "#### Checking if there is a statistically significant difference between the A/A groups conclusion\n",
    "\n",
    "The statistcal test of proportions gives us the p-value, 0.955, which is bigger than 0.05. So we  fail to reject the null hypothesis and can say there is no statistically significant difference in conversion proportions between the A/A groups.\n",
    "\n",
    "So we can confirm that the A/A groups were split properly."
   ]
  },
  {
   "cell_type": "markdown",
   "id": "1f40f6fc",
   "metadata": {},
   "source": [
    "#### Checking if there is a statistically significant difference between the A/B groups.\n",
    "\n",
    "first H0 (Null):my null hypothesis (H₀) is that conversion proportions of group A 246 and group B are equal.\n",
    "\n",
    "first H1 (Alternative):my alternative hypothesis, (H₁), is based on H₀. For this H₀, H₁ is that conversion proportions of  group A 246 and group B are different.\n",
    "\n",
    "second H0 (Null):my null hypothesis (H₀) is that the conversion proportions of group A 247 and group B are equal.\n",
    "\n",
    "second H1 (Alternative):my alternative hypothesis, (H₁), is based on H₀. For this H₀, H₁ is that the conversion proportions of  group A 247 and group B are different."
   ]
  },
  {
   "cell_type": "code",
   "execution_count": 33,
   "id": "c9f77b5d",
   "metadata": {},
   "outputs": [
    {
     "name": "stdout",
     "output_type": "stream",
     "text": [
      "test group number 248\n",
      "-------------------\n"
     ]
    },
    {
     "data": {
      "text/html": [
       "<div>\n",
       "<style scoped>\n",
       "    .dataframe tbody tr th:only-of-type {\n",
       "        vertical-align: middle;\n",
       "    }\n",
       "\n",
       "    .dataframe tbody tr th {\n",
       "        vertical-align: top;\n",
       "    }\n",
       "\n",
       "    .dataframe thead th {\n",
       "        text-align: right;\n",
       "    }\n",
       "</style>\n",
       "<table border=\"1\" class=\"dataframe\">\n",
       "  <thead>\n",
       "    <tr style=\"text-align: right;\">\n",
       "      <th></th>\n",
       "      <th>event name</th>\n",
       "      <th>number of users</th>\n",
       "      <th>conversion</th>\n",
       "    </tr>\n",
       "  </thead>\n",
       "  <tbody>\n",
       "    <tr>\n",
       "      <th>1</th>\n",
       "      <td>MainScreenAppear</td>\n",
       "      <td>2498</td>\n",
       "      <td>0.983465</td>\n",
       "    </tr>\n",
       "    <tr>\n",
       "      <th>2</th>\n",
       "      <td>OffersScreenAppear</td>\n",
       "      <td>1536</td>\n",
       "      <td>0.604724</td>\n",
       "    </tr>\n",
       "    <tr>\n",
       "      <th>0</th>\n",
       "      <td>CartScreenAppear</td>\n",
       "      <td>1236</td>\n",
       "      <td>0.486614</td>\n",
       "    </tr>\n",
       "    <tr>\n",
       "      <th>3</th>\n",
       "      <td>PaymentScreenSuccessful</td>\n",
       "      <td>1183</td>\n",
       "      <td>0.465748</td>\n",
       "    </tr>\n",
       "    <tr>\n",
       "      <th>4</th>\n",
       "      <td>Tutorial</td>\n",
       "      <td>282</td>\n",
       "      <td>0.111024</td>\n",
       "    </tr>\n",
       "  </tbody>\n",
       "</table>\n",
       "</div>"
      ],
      "text/plain": [
       "                event name  number of users  conversion\n",
       "1         MainScreenAppear             2498    0.983465\n",
       "2       OffersScreenAppear             1536    0.604724\n",
       "0         CartScreenAppear             1236    0.486614\n",
       "3  PaymentScreenSuccessful             1183    0.465748\n",
       "4                 Tutorial              282    0.111024"
      ]
     },
     "execution_count": 33,
     "metadata": {},
     "output_type": "execute_result"
    }
   ],
   "source": [
    "print('test group number 248')\n",
    "print('-------------------')\n",
    "user_3=group3.groupby(['event name']).agg({'user id': 'nunique'}).reset_index().sort_values(by='user id', ascending=False)\n",
    "user_3.columns=['event name','number of users']\n",
    "user_3['conversion']=user_3['number of users']/group3['user id'].nunique()\n",
    "user_3"
   ]
  },
  {
   "cell_type": "code",
   "execution_count": 34,
   "id": "5221ad54",
   "metadata": {},
   "outputs": [
    {
     "name": "stdout",
     "output_type": "stream",
     "text": [
      "p_value :  0.950858668316559\n",
      "Fail to Reject H₀\n"
     ]
    }
   ],
   "source": [
    "testing_average(user_1['conversion'],user_3['conversion'],0.05)"
   ]
  },
  {
   "cell_type": "code",
   "execution_count": 35,
   "id": "870c0f25",
   "metadata": {},
   "outputs": [
    {
     "name": "stdout",
     "output_type": "stream",
     "text": [
      "p_value :  0.9955255862309533\n",
      "Fail to Reject H₀\n"
     ]
    }
   ],
   "source": [
    "testing_average(user_2['conversion'],user_3['conversion'],0.05)"
   ]
  },
  {
   "cell_type": "markdown",
   "id": "2f8dc779",
   "metadata": {},
   "source": [
    "#### Checking if there is a statistically significant difference between the A/B groups conclusion\n",
    "\n",
    "The first statistcal test of proportions gives us the p-value, 0.95, which is bigger than 0.05. So we fail to reject the null hypothesis and can say there is no statistically significant difference in conversion proportions between A 246 and B groups.\n",
    "\n",
    "The second statistcal test of proportions gives us the p-value, 0.995, which is bigger than 0.05. So we fail to reject the null hypothesis and can say there is no statistically significant difference in conversion proportions between A 247 and B groups."
   ]
  },
  {
   "cell_type": "markdown",
   "id": "cd0be87e",
   "metadata": {},
   "source": [
    "#### Checking  if there is a statistically significant difference between the A/A combined groups and the B group.\n",
    "\n",
    "H0 (Null):my null hypothesis (H₀) is that the conversion proportions of A/A combined groups and group B are equal.\n",
    "\n",
    "H1 (Alternative):my alternative hypothesis, (H₁), is based on H₀. For this H₀, H₁ is that the conversion proportions of group A/A combined groups and group B are different."
   ]
  },
  {
   "cell_type": "code",
   "execution_count": 36,
   "id": "8edc6bf0",
   "metadata": {},
   "outputs": [
    {
     "name": "stdout",
     "output_type": "stream",
     "text": [
      "combined A/A groups 246 and 247\n",
      "----------------------------------\n"
     ]
    },
    {
     "data": {
      "text/html": [
       "<div>\n",
       "<style scoped>\n",
       "    .dataframe tbody tr th:only-of-type {\n",
       "        vertical-align: middle;\n",
       "    }\n",
       "\n",
       "    .dataframe tbody tr th {\n",
       "        vertical-align: top;\n",
       "    }\n",
       "\n",
       "    .dataframe thead th {\n",
       "        text-align: right;\n",
       "    }\n",
       "</style>\n",
       "<table border=\"1\" class=\"dataframe\">\n",
       "  <thead>\n",
       "    <tr style=\"text-align: right;\">\n",
       "      <th></th>\n",
       "      <th>event name</th>\n",
       "      <th>number of users</th>\n",
       "      <th>conversion</th>\n",
       "    </tr>\n",
       "  </thead>\n",
       "  <tbody>\n",
       "    <tr>\n",
       "      <th>1</th>\n",
       "      <td>MainScreenAppear</td>\n",
       "      <td>4931</td>\n",
       "      <td>0.985806</td>\n",
       "    </tr>\n",
       "    <tr>\n",
       "      <th>2</th>\n",
       "      <td>OffersScreenAppear</td>\n",
       "      <td>3070</td>\n",
       "      <td>0.613754</td>\n",
       "    </tr>\n",
       "    <tr>\n",
       "      <th>0</th>\n",
       "      <td>CartScreenAppear</td>\n",
       "      <td>2506</td>\n",
       "      <td>0.501000</td>\n",
       "    </tr>\n",
       "    <tr>\n",
       "      <th>3</th>\n",
       "      <td>PaymentScreenSuccessful</td>\n",
       "      <td>2359</td>\n",
       "      <td>0.471611</td>\n",
       "    </tr>\n",
       "    <tr>\n",
       "      <th>4</th>\n",
       "      <td>Tutorial</td>\n",
       "      <td>563</td>\n",
       "      <td>0.112555</td>\n",
       "    </tr>\n",
       "  </tbody>\n",
       "</table>\n",
       "</div>"
      ],
      "text/plain": [
       "                event name  number of users  conversion\n",
       "1         MainScreenAppear             4931    0.985806\n",
       "2       OffersScreenAppear             3070    0.613754\n",
       "0         CartScreenAppear             2506    0.501000\n",
       "3  PaymentScreenSuccessful             2359    0.471611\n",
       "4                 Tutorial              563    0.112555"
      ]
     },
     "execution_count": 36,
     "metadata": {},
     "output_type": "execute_result"
    }
   ],
   "source": [
    "print('combined A/A groups 246 and 247')\n",
    "print('----------------------------------')\n",
    "user_4=group4.groupby(['event name']).agg({'user id': 'nunique'}).reset_index().sort_values(by='user id', ascending=False)\n",
    "user_4.columns=['event name','number of users']\n",
    "user_4['conversion']=user_4['number of users']/group4['user id'].nunique()\n",
    "user_4"
   ]
  },
  {
   "cell_type": "code",
   "execution_count": 37,
   "id": "6492fe9d",
   "metadata": {},
   "outputs": [
    {
     "name": "stdout",
     "output_type": "stream",
     "text": [
      "p_value :  0.9733162767279996\n",
      "Fail to Reject H₀\n"
     ]
    }
   ],
   "source": [
    "testing_average(user_4['conversion'],user_3['conversion'],0.05)"
   ]
  },
  {
   "cell_type": "markdown",
   "id": "aedaf67d",
   "metadata": {},
   "source": [
    "#### Checking if there is a statistically significant difference between the A/A combined and the B group conclusion\n",
    "\n",
    "The statistcal test of proportions gives us the p-value, 0.973, which is bigger than 0.05. So we  fail to reject the null hypothesis and can say there is no statistically significant difference in conversion proportions between the A/A combined groups and the B group."
   ]
  },
  {
   "cell_type": "code",
   "execution_count": 38,
   "id": "f903defd",
   "metadata": {},
   "outputs": [
    {
     "data": {
      "image/png": "[encoded data removed]"
     },
     "metadata": {},
     "output_type": "display_data"
    }
   ],
   "source": [
    "m_conversion = user_4.merge(user_3, left_on='event name', right_on='event name', how='left', suffixes=['A', 'B'])\n",
    "\n",
    "# plotting a relative difference graph for the conversion rate\n",
    "fig =px.bar(m_conversion, y='event name', x=((m_conversion['conversionB'])/(m_conversion['conversionA'])-1)\n",
    "           , orientation='h')\n",
    "fig.update_layout(\n",
    "    title='Relative difference in conversion rate for group B compared with groups A/A',\n",
    "    xaxis_title=\"Conversion rate\",\n",
    "    yaxis_title=\"Event name\")\n",
    "fig.show(\"png\");"
   ]
  },
  {
   "cell_type": "markdown",
   "id": "ebcf9436",
   "metadata": {},
   "source": [
    "#### Conclusions  of the A/A/B test\n",
    "\n",
    "Out of the statistcal tests of proportions results and the relative difference in conversion rate graph, we can conclude that the font change was not sucessful. \n",
    "\n",
    "We found no statistically significant difference in conversion proportions between the A/A groups and the B group, and further more we can see the converation rates of the B group is relatively a bit smaller then the A/A groups."
   ]
  },
  {
   "cell_type": "markdown",
   "id": "aa8cbfb8",
   "metadata": {},
   "source": [
    "#### Significance level  set to test the statistical hypotheses \n",
    "\n",
    "The significance level that was set to test the statistical hypotheses is the common 0.05 alpha value. \n",
    "\n",
    "Out of the high p-value results of the differnet z-tests we can see there is no reason to change the significance level to higher level , because even with 0.1 alpha value and even much higher values the test results would stay the same. "
   ]
  },
  {
   "cell_type": "markdown",
   "id": "189f3664",
   "metadata": {},
   "source": [
    "# General conclusion\n",
    "\n",
    "This report comes to investigate user behavior in the company's app that sells food products, and examine the results of an A/A/B test that checks the impact of changing the fonts for the entire app on the user behavior, in order to detrmine which set of fonts produces better results.\n",
    "\n",
    "After analyzing the data, i came across some finding and conclusions i will show here.\n",
    "\n",
    "Examing the users behavior on the app we can see there are 7551 users in the logs,\n",
    "and the average number of events per user is 2.\n",
    "\n",
    "Checking the sales funnel we can see that on the \"Offers Screen Appear\" stage we lose most of our users (38%  of the users), so it needs further investagtion to figure out what make the user leave between this stages.\n",
    "\n",
    "We can also see that 47.7% of the users make the entire journey from \"Main Screen Appear\" stage to payment.\n",
    "\n",
    "\n",
    "Out of the statistcal tests of proportions we conclude, we can see that:\n",
    "\n",
    "1. There was no statistically significant difference in conversion proportions between the A/A groups. so we can confirm that the A/A groups were split properly.\n",
    "\n",
    "\n",
    "2. There was no statistically significant difference in conversion proportions between A 246 and B groups.\n",
    "\n",
    "   \n",
    "3. There was no statistically significant difference in conversion proportions between A 247 and B groups.\n",
    "\n",
    "\n",
    "4. There was no statistically significant difference in conversion proportions A/A combined groups and the B group.\n",
    "   \n",
    "\n",
    " \n",
    "Based on the test results, and the converation rates of the B group that is relatively a bit smaller then the A/A groups we can conclude that the change in the set of fonts on the app was not sucessful ,and not produces better results. \n",
    "\n"
   ]
  }
 ],
 "metadata": {
  "ExecuteTimeLog": [
   {
    "duration": 42120,
    "start_time": "2022-04-27T12:33:48.950Z"
   },
   {
    "duration": 1398,
    "start_time": "2022-04-27T12:34:31.073Z"
   },
   {
    "duration": 259,
    "start_time": "2022-04-27T12:34:32.473Z"
   },
   {
    "duration": 3,
    "start_time": "2022-04-27T12:34:32.735Z"
   },
   {
    "duration": 82,
    "start_time": "2022-04-27T12:34:32.739Z"
   },
   {
    "duration": 31,
    "start_time": "2022-04-27T12:34:32.823Z"
   },
   {
    "duration": 24,
    "start_time": "2022-04-27T12:34:32.855Z"
   },
   {
    "duration": 24,
    "start_time": "2022-04-27T12:34:32.881Z"
   },
   {
    "duration": 112,
    "start_time": "2022-04-27T12:34:32.906Z"
   },
   {
    "duration": 120,
    "start_time": "2022-04-27T12:34:33.021Z"
   },
   {
    "duration": 105,
    "start_time": "2022-04-27T12:34:33.143Z"
   },
   {
    "duration": 13,
    "start_time": "2022-04-27T12:34:33.249Z"
   },
   {
    "duration": 13,
    "start_time": "2022-04-27T12:34:33.273Z"
   },
   {
    "duration": 59,
    "start_time": "2022-04-27T12:34:33.288Z"
   },
   {
    "duration": 25,
    "start_time": "2022-04-27T12:34:33.350Z"
   },
   {
    "duration": 6099,
    "start_time": "2022-04-27T12:34:33.377Z"
   },
   {
    "duration": 13,
    "start_time": "2022-04-27T12:34:39.478Z"
   },
   {
    "duration": 88,
    "start_time": "2022-04-27T12:34:39.493Z"
   },
   {
    "duration": 7,
    "start_time": "2022-04-27T12:34:39.583Z"
   },
   {
    "duration": 8,
    "start_time": "2022-04-27T12:34:39.592Z"
   },
   {
    "duration": 77,
    "start_time": "2022-04-27T12:34:39.602Z"
   },
   {
    "duration": 120,
    "start_time": "2022-04-27T12:34:39.681Z"
   },
   {
    "duration": 90,
    "start_time": "2022-04-27T12:34:39.803Z"
   },
   {
    "duration": 6,
    "start_time": "2022-04-27T12:34:39.895Z"
   },
   {
    "duration": 78,
    "start_time": "2022-04-27T12:34:39.903Z"
   },
   {
    "duration": 160,
    "start_time": "2022-04-27T12:34:39.983Z"
   },
   {
    "duration": 155,
    "start_time": "2022-04-27T12:34:40.144Z"
   },
   {
    "duration": 0,
    "start_time": "2022-04-27T12:34:40.301Z"
   },
   {
    "duration": 0,
    "start_time": "2022-04-27T12:34:40.302Z"
   },
   {
    "duration": 0,
    "start_time": "2022-04-27T12:34:40.303Z"
   },
   {
    "duration": 0,
    "start_time": "2022-04-27T12:34:40.304Z"
   },
   {
    "duration": 0,
    "start_time": "2022-04-27T12:34:40.305Z"
   },
   {
    "duration": 0,
    "start_time": "2022-04-27T12:34:40.306Z"
   },
   {
    "duration": 0,
    "start_time": "2022-04-27T12:34:40.307Z"
   },
   {
    "duration": 0,
    "start_time": "2022-04-27T12:34:40.308Z"
   },
   {
    "duration": 0,
    "start_time": "2022-04-27T12:34:40.309Z"
   },
   {
    "duration": 56,
    "start_time": "2022-04-27T12:35:53.114Z"
   },
   {
    "duration": 3,
    "start_time": "2022-04-27T12:35:59.717Z"
   },
   {
    "duration": 5,
    "start_time": "2022-04-27T12:36:00.415Z"
   },
   {
    "duration": 29,
    "start_time": "2022-04-27T12:36:07.665Z"
   },
   {
    "duration": 6,
    "start_time": "2022-04-27T12:36:12.964Z"
   },
   {
    "duration": 5,
    "start_time": "2022-04-27T12:36:14.579Z"
   },
   {
    "duration": 51,
    "start_time": "2022-04-27T12:36:21.392Z"
   },
   {
    "duration": 4,
    "start_time": "2022-04-27T12:36:26.654Z"
   },
   {
    "duration": 52,
    "start_time": "2022-04-27T12:36:33.424Z"
   },
   {
    "duration": 5,
    "start_time": "2022-04-28T14:39:48.053Z"
   },
   {
    "duration": 1569,
    "start_time": "2022-04-28T14:39:48.060Z"
   },
   {
    "duration": 279,
    "start_time": "2022-04-28T14:39:49.630Z"
   },
   {
    "duration": 3,
    "start_time": "2022-04-28T14:39:49.911Z"
   },
   {
    "duration": 85,
    "start_time": "2022-04-28T14:39:49.917Z"
   },
   {
    "duration": 38,
    "start_time": "2022-04-28T14:39:50.003Z"
   },
   {
    "duration": 14,
    "start_time": "2022-04-28T14:39:50.044Z"
   },
   {
    "duration": 26,
    "start_time": "2022-04-28T14:39:50.060Z"
   },
   {
    "duration": 127,
    "start_time": "2022-04-28T14:39:50.088Z"
   },
   {
    "duration": 125,
    "start_time": "2022-04-28T14:39:50.217Z"
   },
   {
    "duration": 110,
    "start_time": "2022-04-28T14:39:50.344Z"
   },
   {
    "duration": 13,
    "start_time": "2022-04-28T14:39:50.456Z"
   },
   {
    "duration": 9,
    "start_time": "2022-04-28T14:39:50.470Z"
   },
   {
    "duration": 77,
    "start_time": "2022-04-28T14:39:50.482Z"
   },
   {
    "duration": 8,
    "start_time": "2022-04-28T14:39:50.561Z"
   },
   {
    "duration": 7151,
    "start_time": "2022-04-28T14:39:50.570Z"
   },
   {
    "duration": 24,
    "start_time": "2022-04-28T14:39:57.723Z"
   },
   {
    "duration": 92,
    "start_time": "2022-04-28T14:39:57.751Z"
   },
   {
    "duration": 8,
    "start_time": "2022-04-28T14:39:57.844Z"
   },
   {
    "duration": 9,
    "start_time": "2022-04-28T14:39:57.854Z"
   },
   {
    "duration": 102,
    "start_time": "2022-04-28T14:39:57.865Z"
   },
   {
    "duration": 196,
    "start_time": "2022-04-28T14:39:57.969Z"
   },
   {
    "duration": 81,
    "start_time": "2022-04-28T14:39:58.166Z"
   },
   {
    "duration": 8,
    "start_time": "2022-04-28T14:39:58.251Z"
   },
   {
    "duration": 90,
    "start_time": "2022-04-28T14:39:58.261Z"
   },
   {
    "duration": 180,
    "start_time": "2022-04-28T14:39:58.354Z"
   },
   {
    "duration": 7,
    "start_time": "2022-04-28T14:39:58.538Z"
   },
   {
    "duration": 11,
    "start_time": "2022-04-28T14:39:58.548Z"
   },
   {
    "duration": 87,
    "start_time": "2022-04-28T14:39:58.561Z"
   },
   {
    "duration": 7,
    "start_time": "2022-04-28T14:39:58.650Z"
   },
   {
    "duration": 9,
    "start_time": "2022-04-28T14:39:58.659Z"
   },
   {
    "duration": 90,
    "start_time": "2022-04-28T14:39:58.670Z"
   },
   {
    "duration": 7,
    "start_time": "2022-04-28T14:39:58.761Z"
   },
   {
    "duration": 80,
    "start_time": "2022-04-28T14:39:58.770Z"
   },
   {
    "duration": 3,
    "start_time": "2022-04-28T16:14:06.941Z"
   },
   {
    "duration": 1320,
    "start_time": "2022-04-28T16:14:06.947Z"
   },
   {
    "duration": 2855,
    "start_time": "2022-04-28T16:14:08.269Z"
   },
   {
    "duration": 3,
    "start_time": "2022-04-28T16:14:11.126Z"
   },
   {
    "duration": 77,
    "start_time": "2022-04-28T16:14:11.131Z"
   },
   {
    "duration": 27,
    "start_time": "2022-04-28T16:14:11.209Z"
   },
   {
    "duration": 13,
    "start_time": "2022-04-28T16:14:11.238Z"
   },
   {
    "duration": 24,
    "start_time": "2022-04-28T16:14:11.252Z"
   },
   {
    "duration": 106,
    "start_time": "2022-04-28T16:14:11.277Z"
   },
   {
    "duration": 106,
    "start_time": "2022-04-28T16:14:11.385Z"
   },
   {
    "duration": 86,
    "start_time": "2022-04-28T16:14:11.501Z"
   },
   {
    "duration": 19,
    "start_time": "2022-04-28T16:14:11.589Z"
   },
   {
    "duration": 8,
    "start_time": "2022-04-28T16:14:11.609Z"
   },
   {
    "duration": 53,
    "start_time": "2022-04-28T16:14:11.618Z"
   },
   {
    "duration": 28,
    "start_time": "2022-04-28T16:14:11.673Z"
   },
   {
    "duration": 5761,
    "start_time": "2022-04-28T16:14:11.703Z"
   },
   {
    "duration": 35,
    "start_time": "2022-04-28T16:14:17.465Z"
   },
   {
    "duration": 27,
    "start_time": "2022-04-28T16:14:17.502Z"
   },
   {
    "duration": 8,
    "start_time": "2022-04-28T16:14:17.531Z"
   },
   {
    "duration": 61,
    "start_time": "2022-04-28T16:14:17.540Z"
   },
   {
    "duration": 23,
    "start_time": "2022-04-28T16:14:17.602Z"
   },
   {
    "duration": 116,
    "start_time": "2022-04-28T16:14:17.627Z"
   },
   {
    "duration": 96,
    "start_time": "2022-04-28T16:14:17.744Z"
   },
   {
    "duration": 8,
    "start_time": "2022-04-28T16:14:17.842Z"
   },
   {
    "duration": 66,
    "start_time": "2022-04-28T16:14:17.852Z"
   },
   {
    "duration": 100,
    "start_time": "2022-04-28T16:14:17.920Z"
   },
   {
    "duration": 3,
    "start_time": "2022-04-28T16:14:18.022Z"
   },
   {
    "duration": 7,
    "start_time": "2022-04-28T16:14:18.027Z"
   },
   {
    "duration": 25,
    "start_time": "2022-04-28T16:14:18.037Z"
   },
   {
    "duration": 4,
    "start_time": "2022-04-28T16:14:18.063Z"
   },
   {
    "duration": 4,
    "start_time": "2022-04-28T16:14:18.100Z"
   },
   {
    "duration": 40,
    "start_time": "2022-04-28T16:14:18.105Z"
   },
   {
    "duration": 3,
    "start_time": "2022-04-28T16:14:18.147Z"
   },
   {
    "duration": 73,
    "start_time": "2022-04-28T16:14:18.152Z"
   },
   {
    "duration": 9,
    "start_time": "2022-04-28T16:17:03.593Z"
   },
   {
    "duration": 6,
    "start_time": "2022-04-28T16:17:26.483Z"
   },
   {
    "duration": 54,
    "start_time": "2022-04-28T16:21:24.195Z"
   },
   {
    "duration": 56,
    "start_time": "2022-04-28T16:22:58.924Z"
   },
   {
    "duration": 64,
    "start_time": "2022-04-28T16:23:46.389Z"
   },
   {
    "duration": 54,
    "start_time": "2022-04-28T16:24:04.708Z"
   },
   {
    "duration": 56,
    "start_time": "2022-04-28T16:25:05.033Z"
   },
   {
    "duration": 58,
    "start_time": "2022-04-28T16:25:12.607Z"
   },
   {
    "duration": 106,
    "start_time": "2022-04-28T16:26:06.148Z"
   },
   {
    "duration": 1498,
    "start_time": "2022-04-28T16:28:00.077Z"
   },
   {
    "duration": 160,
    "start_time": "2022-04-28T16:28:30.458Z"
   },
   {
    "duration": 172,
    "start_time": "2022-04-28T16:29:09.455Z"
   },
   {
    "duration": 109,
    "start_time": "2022-04-28T16:29:55.173Z"
   },
   {
    "duration": 61,
    "start_time": "2022-04-28T16:30:09.561Z"
   },
   {
    "duration": 134,
    "start_time": "2022-04-28T16:30:20.455Z"
   },
   {
    "duration": 62,
    "start_time": "2022-04-28T16:31:06.549Z"
   },
   {
    "duration": 63,
    "start_time": "2022-04-28T16:31:17.648Z"
   },
   {
    "duration": 61,
    "start_time": "2022-04-28T16:31:29.738Z"
   },
   {
    "duration": 15,
    "start_time": "2022-04-28T16:32:50.060Z"
   },
   {
    "duration": 14,
    "start_time": "2022-04-28T16:33:25.688Z"
   },
   {
    "duration": 14,
    "start_time": "2022-04-28T16:33:56.016Z"
   },
   {
    "duration": 61,
    "start_time": "2022-04-28T16:34:32.230Z"
   },
   {
    "duration": 59,
    "start_time": "2022-04-28T16:35:15.267Z"
   },
   {
    "duration": 54,
    "start_time": "2022-04-28T16:35:52.973Z"
   },
   {
    "duration": 5411,
    "start_time": "2022-04-28T16:36:33.754Z"
   },
   {
    "duration": 33,
    "start_time": "2022-04-28T16:45:33.115Z"
   },
   {
    "duration": 51,
    "start_time": "2022-04-28T16:50:33.385Z"
   },
   {
    "duration": 54,
    "start_time": "2022-04-28T16:53:29.823Z"
   },
   {
    "duration": 47,
    "start_time": "2022-04-28T16:57:34.800Z"
   },
   {
    "duration": 57,
    "start_time": "2022-04-28T16:58:50.775Z"
   },
   {
    "duration": 43,
    "start_time": "2022-04-28T17:00:17.343Z"
   },
   {
    "duration": 44,
    "start_time": "2022-04-28T17:01:19.135Z"
   },
   {
    "duration": 45,
    "start_time": "2022-04-28T17:03:47.258Z"
   },
   {
    "duration": 31,
    "start_time": "2022-04-28T17:07:42.758Z"
   },
   {
    "duration": 44,
    "start_time": "2022-04-28T17:08:57.603Z"
   },
   {
    "duration": 5359,
    "start_time": "2022-04-28T17:14:58.743Z"
   },
   {
    "duration": 3,
    "start_time": "2022-04-29T13:36:26.534Z"
   },
   {
    "duration": 1180,
    "start_time": "2022-04-29T13:36:26.538Z"
   },
   {
    "duration": 291,
    "start_time": "2022-04-29T13:36:27.720Z"
   },
   {
    "duration": 3,
    "start_time": "2022-04-29T13:36:28.013Z"
   },
   {
    "duration": 27,
    "start_time": "2022-04-29T13:36:28.091Z"
   },
   {
    "duration": 12,
    "start_time": "2022-04-29T13:36:28.119Z"
   },
   {
    "duration": 33,
    "start_time": "2022-04-29T13:36:28.133Z"
   },
   {
    "duration": 95,
    "start_time": "2022-04-29T13:36:28.168Z"
   },
   {
    "duration": 110,
    "start_time": "2022-04-29T13:36:28.264Z"
   },
   {
    "duration": 91,
    "start_time": "2022-04-29T13:36:28.375Z"
   },
   {
    "duration": 11,
    "start_time": "2022-04-29T13:36:28.467Z"
   },
   {
    "duration": 19,
    "start_time": "2022-04-29T13:36:28.480Z"
   },
   {
    "duration": 56,
    "start_time": "2022-04-29T13:36:28.501Z"
   },
   {
    "duration": 60,
    "start_time": "2022-04-29T13:36:28.559Z"
   },
   {
    "duration": 6,
    "start_time": "2022-04-29T13:36:28.621Z"
   },
   {
    "duration": 5858,
    "start_time": "2022-04-29T13:36:28.629Z"
   },
   {
    "duration": 15,
    "start_time": "2022-04-29T13:36:34.489Z"
   },
   {
    "duration": 106,
    "start_time": "2022-04-29T13:36:34.507Z"
   },
   {
    "duration": 7,
    "start_time": "2022-04-29T13:36:34.615Z"
   },
   {
    "duration": 5637,
    "start_time": "2022-04-29T13:36:34.624Z"
   },
   {
    "duration": 139,
    "start_time": "2022-04-29T13:36:40.263Z"
   },
   {
    "duration": 39,
    "start_time": "2022-04-29T13:36:40.404Z"
   },
   {
    "duration": 144,
    "start_time": "2022-04-29T13:36:40.499Z"
   },
   {
    "duration": 70,
    "start_time": "2022-04-29T13:36:40.645Z"
   },
   {
    "duration": 89,
    "start_time": "2022-04-29T13:36:40.717Z"
   },
   {
    "duration": 23,
    "start_time": "2022-04-29T13:36:40.808Z"
   },
   {
    "duration": 101,
    "start_time": "2022-04-29T13:36:40.832Z"
   },
   {
    "duration": 3,
    "start_time": "2022-04-29T13:36:40.935Z"
   },
   {
    "duration": 7,
    "start_time": "2022-04-29T13:36:40.939Z"
   },
   {
    "duration": 25,
    "start_time": "2022-04-29T13:36:40.947Z"
   },
   {
    "duration": 4,
    "start_time": "2022-04-29T13:36:40.973Z"
   },
   {
    "duration": 4,
    "start_time": "2022-04-29T13:36:41.000Z"
   },
   {
    "duration": 43,
    "start_time": "2022-04-29T13:36:41.006Z"
   },
   {
    "duration": 4,
    "start_time": "2022-04-29T13:36:41.051Z"
   },
   {
    "duration": 73,
    "start_time": "2022-04-29T13:36:41.056Z"
   },
   {
    "duration": 5,
    "start_time": "2022-04-29T13:40:42.386Z"
   },
   {
    "duration": 142,
    "start_time": "2022-04-29T13:41:00.466Z"
   },
   {
    "duration": 53,
    "start_time": "2022-04-29T13:41:17.052Z"
   },
   {
    "duration": 13,
    "start_time": "2022-04-29T13:41:25.806Z"
   },
   {
    "duration": 10,
    "start_time": "2022-04-29T15:01:07.700Z"
   },
   {
    "duration": 16,
    "start_time": "2022-04-29T15:01:17.102Z"
   },
   {
    "duration": 25,
    "start_time": "2022-04-29T15:01:26.111Z"
   }
  ],
  "kernelspec": {
   "display_name": "Python 3 (ipykernel)",
   "language": "python",
   "name": "python3"
  },
  "language_info": {
   "codemirror_mode": {
    "name": "ipython",
    "version": 3
   },
   "file_extension": ".py",
   "mimetype": "text/x-python",
   "name": "python",
   "nbconvert_exporter": "python",
   "pygments_lexer": "ipython3",
   "version": "3.9.7"
  },
  "toc": {
   "base_numbering": 1,
   "nav_menu": {},
   "number_sections": true,
   "sideBar": true,
   "skip_h1_title": true,
   "title_cell": "Table of Contents",
   "title_sidebar": "Contents",
   "toc_cell": false,
   "toc_position": {},
   "toc_section_display": true,
   "toc_window_display": false
  }
 },
 "nbformat": 4,
 "nbformat_minor": 5
}
